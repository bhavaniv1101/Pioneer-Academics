{
  "nbformat": 4,
  "nbformat_minor": 0,
  "metadata": {
    "colab": {
      "provenance": [],
      "include_colab_link": true
    },
    "language_info": {
      "name": "python"
    },
    "kernelspec": {
      "name": "python3",
      "display_name": "Python 3"
    }
  },
  "cells": [
    {
      "cell_type": "markdown",
      "metadata": {
        "id": "view-in-github",
        "colab_type": "text"
      },
      "source": [
        "<a href=\"https://colab.research.google.com/github/bhavaniv1101/Pioneer/blob/main/Intro_to_Differential_Drive_Robots.ipynb\" target=\"_parent\"><img src=\"https://colab.research.google.com/assets/colab-badge.svg\" alt=\"Open In Colab\"/></a>"
      ]
    },
    {
      "cell_type": "markdown",
      "metadata": {
        "id": "b4Gwj-96cFLI"
      },
      "source": [
        "### A Differential Drive Robot\n",
        "\n",
        "Author: Melody Su (Mount Holyoke College)\n",
        "\n",
        "Differential drive robots, as their name implies, control their direction manipulating the difference between the velocities of their two wheels. This Colaboratory worksheet contains the Python code for the kinematic model of a differential drive robot. First let's include all the needed libraries."
      ]
    },
    {
      "cell_type": "code",
      "metadata": {
        "id": "TPvcxsgAcB_f"
      },
      "source": [
        "import matplotlib.patches as patches\n",
        "import matplotlib as mpl\n",
        "from matplotlib import pyplot as plt\n",
        "import math\n",
        "from math import sin, cos"
      ],
      "execution_count": null,
      "outputs": []
    },
    {
      "cell_type": "markdown",
      "metadata": {
        "id": "fXhBQa6GOpx4"
      },
      "source": [
        "Remember these are the formulas for running our PioBot!\n",
        "\n",
        "$\\omega_L$: the angular velocity of the left motor\n",
        "\n",
        "$\\omega_R$: the angular velocity of the right motor\n",
        "\n",
        "$V_L = r\\:\\omega_L$: the linear velocity of the left motor\n",
        "\n",
        "$V_R = r\\:\\omega_R$: the linear velocity of the right motor\n",
        "\n",
        "$V = \\frac{V_L\\:+\\:V_R}{2}$: the speed of the robot\n",
        "\n",
        "$\\alpha = \\frac{V_R\\:-\\:V_L}{L}$: the rotation of the robot\n",
        "\n",
        ",where $r$ is the radius of the wheels and $L$ is the length between the wheels."
      ]
    },
    {
      "cell_type": "markdown",
      "metadata": {
        "id": "0xhokiwzVaqR"
      },
      "source": [
        "... therefore, we can define the instant velocity of the robot in $x$ and $y$ as:\n",
        "\n",
        "$V_x = V\\:cos(\\alpha)$\n",
        "\n",
        "$V_y = V\\:sin(\\alpha)$\n",
        "\n",
        "Therefore, the incremental change in x, y and angle can be represented as:\n",
        "\n",
        "$\\Delta x =V_x\\:\\Delta t$\n",
        "\n",
        "$\\Delta y =V_y\\:\\Delta t$\n",
        "\n",
        "$\\Delta \\theta = \\alpha\\:\\Delta t$\n",
        "\n",
        "Finally, the x, y and angle of the PioBot will be:\n",
        "\n",
        "$x_{new} = x_{old} + \\Delta x = x_{old} + V_x\\:\\Delta t$\n",
        "\n",
        "$y_{new} = y_{old} + \\Delta y = y_{old} + V_y\\:\\Delta t$\n",
        "\n",
        "$\\theta_{new} = \\theta_{old} + \\Delta \\theta = \\theta_{old} + \\alpha\\:\\Delta t$\n",
        "\n",
        "Let's try creating our differential drive robot framework.\n"
      ]
    },
    {
      "cell_type": "code",
      "metadata": {
        "id": "K5DjmV6LqtfG"
      },
      "source": [
        "\"\"\"Defines a differential drive robot\n",
        "and makes it describe a simple path\"\"\"\n",
        "class DDRobot(object):\n",
        "\n",
        "    # Initialize\n",
        "    def __init__(self, px, py, ang, plot=True):\n",
        "        \"\"\"Defines basic mobile robot properties\"\"\"\n",
        "        self.pos_x  = px\n",
        "        self.pos_y  = py\n",
        "        self.angle  = ang\n",
        "        self.plot   = plot\n",
        "        self._delta = 0.01        # the time interval (delta t)\n",
        "\n",
        "        \"\"\"Defines a differential drive robot\"\"\"\n",
        "        self.radius = 0.1         # the radius of the wheels\n",
        "        self.length = 0.4         # the length between the wheels\n",
        "        self.rt_spd_left = 0.0    # the angular velocity of the left motor\n",
        "        self.rt_spd_right = 0.0   # the angular velocity of the right motor\n",
        "\n",
        "    # Set Motor Speed\n",
        "    def set_rt_spd(self, rt_spd_l, rt_spd_r):\n",
        "        self.rt_spd_left = rt_spd_l\n",
        "        self.rt_spd_right = rt_spd_r\n",
        "\n",
        "    # Movement\n",
        "    def step(self):\n",
        "\n",
        "      V_r = self.radius * self.rt_spd_right\n",
        "      V_l = self.radius * self.rt_spd_left\n",
        "      V = (V_r + V_l) / 2.0\n",
        "      alpha = (V_r - V_l) / self.length\n",
        "\n",
        "      # TODO:----------------------------------------------------------------\n",
        "      # update the x,y and angle based on L and motor angular speeds\n",
        "      # The math formulas are above.\n",
        "      # self.angle = ...\n",
        "      # self.pos_x = ...\n",
        "      # self.pos_y = ...\n",
        "      # ---------------------------------------------------------------------\n",
        "\n",
        "      self.angle = self.angle + self._delta * alpha\n",
        "\n",
        "      V_x = V * cos(self.angle)\n",
        "      V_y = V * sin(self.angle)\n",
        "\n",
        "      self.pos_x = self.pos_x + V_x * self._delta\n",
        "      self.pos_y = self.pos_y + V_y * self._delta\n",
        "\n",
        "    def move(self, seconds):\n",
        "        \"\"\" Moves the robot for an 's' amount of seconds\"\"\"\n",
        "        for i in range(int(seconds/self._delta)):\n",
        "            self.step()\n",
        "            if self.plot:\n",
        "                \"\"\" plots a dot in the position of the robot \"\"\"\n",
        "                plt.scatter(self.pos_x, self.pos_y, c='y', edgecolors='y')\n",
        "                if (i+1) % 100 == 0: # plot path every 100 steps\n",
        "                  self.plot_robot()\n",
        "\n",
        "\n",
        "    # Printing-and-plotting:\n",
        "    def get_xya(self, msg = \"\"):\n",
        "        \"\"\" prints the x,y position and angle \"\"\"\n",
        "        print (msg + \"robot pose:\")\n",
        "        print (\"    x = \" + str(self.pos_x))\n",
        "        print (\"    y = \" + str(self.pos_y))\n",
        "        print (\"    a = \" + str(self.angle))\n",
        "\n",
        "    def plot_robot(self,robot_color=\"cyan\"):\n",
        "        \"\"\" plots a representation of the robot \"\"\"\n",
        "        ax = plt.gca()\n",
        "        w = 0.3 * self.length\n",
        "        h = self.length\n",
        "        center_x =  self.pos_x - 0.5 * w\n",
        "        center_y =  self.pos_y - 0.5 * h\n",
        "        r1 = patches.Rectangle((center_x, center_y), w, h, color=robot_color, alpha=0.80)\n",
        "        t1 = mpl.transforms.Affine2D().rotate_around(self.pos_x, self.pos_y, self.angle) + ax.transData  # ??\n",
        "        r1.set_transform(t1)\n",
        "        ax.add_patch(r1)\n",
        "\n",
        "        plt.arrow(self.pos_x, self.pos_y, 0.001*cos(self.angle), 0.001*sin(self.angle),\n",
        "                  head_width=0.3*self.length, head_length=0.5*self.length,\n",
        "                  fc='k', ec='k')"
      ],
      "execution_count": null,
      "outputs": []
    },
    {
      "cell_type": "markdown",
      "metadata": {
        "id": "W0EjYUvggw2I"
      },
      "source": [
        "### Basic Moves\n",
        "#### 1. Forward and backward\n",
        "For moving the robot we set the velocity in radian per second [rad/s] of each wheel.\n",
        "\n",
        "If both velocities are positive and equal then the robot will move forward.\n",
        "If they are negative and equal, the robot will move backward.\n",
        "If the velocities are zero, the robot will stop."
      ]
    },
    {
      "cell_type": "code",
      "metadata": {
        "id": "jLR31IwCg0Wc",
        "colab": {
          "base_uri": "https://localhost:8080/",
          "height": 595
        },
        "outputId": "a1689968-43d8-4d11-cd86-805dae4dfab4"
      },
      "source": [
        "# Speed options\n",
        "LOW_SPEED = 12.5664\n",
        "HIGH_SPEED = 18.8496\n",
        "\n",
        "# Initial pose of the robot\n",
        "px=0\n",
        "py=0\n",
        "ang = math.pi/2\n",
        "\n",
        "\n",
        "print(\"This is a demo of a forward movement: (for 1 sec)\")\n",
        "\n",
        "# Create our PioBot\n",
        "PioBot = DDRobot(px, py, ang)\n",
        "PioBot.plot_robot(\"green\")\n",
        "PioBot.get_xya(\"initial \")\n",
        "\n",
        "# TODO:----------------------------------------------------------------\n",
        "# reset the speed values for left and right wheels as well as the time.\n",
        "# so that the PioBot goes forward.\n",
        "# Use function: set_rt_spd, move\n",
        "# ---------------------------------------------------------------------\n",
        "\n",
        "PioBot.set_rt_spd(rt_spd_l=HIGH_SPEED, rt_spd_r=HIGH_SPEED)\n",
        "PioBot.move(seconds=1)\n",
        "\n",
        "PioBot.plot_robot(\"red\")\n",
        "plt.xlim([-3,3])\n",
        "plt.ylim([-3,3])\n",
        "plt.show()\n",
        "PioBot.get_xya(\"final \")"
      ],
      "execution_count": null,
      "outputs": [
        {
          "output_type": "stream",
          "name": "stdout",
          "text": [
            "This is a demo of a forward movement: (for 1 sec)\n",
            "initial robot pose:\n",
            "    x = 0\n",
            "    y = 0\n",
            "    a = 1.5707963267948966\n"
          ]
        },
        {
          "output_type": "display_data",
          "data": {
            "text/plain": [
              "<Figure size 640x480 with 1 Axes>"
            ],
            "image/png": "[encoded data removed]"
          },
          "metadata": {}
        },
        {
          "output_type": "stream",
          "name": "stdout",
          "text": [
            "final robot pose:\n",
            "    x = 1.154205115260395e-16\n",
            "    y = 1.8849600000000017\n",
            "    a = 1.5707963267948966\n"
          ]
        }
      ]
    },
    {
      "cell_type": "code",
      "metadata": {
        "id": "DVkCkW9XjsoH",
        "colab": {
          "base_uri": "https://localhost:8080/",
          "height": 595
        },
        "outputId": "9215bea4-c0af-4914-9f66-e337ded49ac6"
      },
      "source": [
        "print(\"This is a demo of a backward movement: (for 1 sec)\")\n",
        "\n",
        "# Create our PioBot\n",
        "PioBot = DDRobot(px, py, ang)\n",
        "PioBot.plot_robot(\"green\")\n",
        "PioBot.get_xya(\"initial \")\n",
        "\n",
        "# TODO:----------------------------------------------------------------\n",
        "# reset the speed values for left and right wheels as well as the time.\n",
        "# so that the PioBot goes backward.\n",
        "# Use function: set_rt_spd, move\n",
        "# ---------------------------------------------------------------------\n",
        "\n",
        "PioBot.set_rt_spd(rt_spd_l=-HIGH_SPEED, rt_spd_r=-HIGH_SPEED)\n",
        "PioBot.move(seconds=1)\n",
        "\n",
        "PioBot.plot_robot(\"red\")\n",
        "plt.xlim([-3,3])\n",
        "plt.ylim([-3,3])\n",
        "plt.show()\n",
        "PioBot.get_xya(\"final \")"
      ],
      "execution_count": null,
      "outputs": [
        {
          "output_type": "stream",
          "name": "stdout",
          "text": [
            "This is a demo of a backward movement: (for 1 sec)\n",
            "initial robot pose:\n",
            "    x = 0\n",
            "    y = 0\n",
            "    a = 1.5707963267948966\n"
          ]
        },
        {
          "output_type": "display_data",
          "data": {
            "text/plain": [
              "<Figure size 640x480 with 1 Axes>"
            ],
            "image/png": "[encoded data removed]"
          },
          "metadata": {}
        },
        {
          "output_type": "stream",
          "name": "stdout",
          "text": [
            "final robot pose:\n",
            "    x = -1.154205115260395e-16\n",
            "    y = -1.8849600000000017\n",
            "    a = 1.5707963267948966\n"
          ]
        }
      ]
    },
    {
      "cell_type": "markdown",
      "metadata": {
        "id": "YVLy-eyEj4_1"
      },
      "source": [
        "#### 2. Turning\n",
        "If the velocities are different, the robot will spin. Try any combination in the cell below, by putting the appropriate values between the parentheses of the set_rt_spd function. You can edit and execute the cell as many times as you wish."
      ]
    },
    {
      "cell_type": "code",
      "metadata": {
        "id": "WzB9sCPykIfs",
        "colab": {
          "base_uri": "https://localhost:8080/",
          "height": 590
        },
        "outputId": "9dc0a5e7-a3cd-4007-923e-ee80c19f9182"
      },
      "source": [
        "print(\"This is a demo of a turning movement: (for 1 sec)\")\n",
        "\n",
        "# Create our PioBot\n",
        "PioBot = DDRobot(px, py, ang)\n",
        "PioBot.plot_robot(\"green\")\n",
        "PioBot.get_xya(\"initial \")\n",
        "\n",
        "# TODO:----------------------------------------------------------------\n",
        "# reset the speed values for left and right wheels as well as the time.\n",
        "# so that the PioBot turns.\n",
        "# Use function: set_rt_spd, move\n",
        "# ---------------------------------------------------------------------\n",
        "\n",
        "PioBot.set_rt_spd(rt_spd_l=LOW_SPEED, rt_spd_r=HIGH_SPEED)\n",
        "PioBot.move(seconds=1)\n",
        "\n",
        "PioBot.set_rt_spd(rt_spd_l=HIGH_SPEED, rt_spd_r=LOW_SPEED)\n",
        "PioBot.move(seconds=1)\n",
        "\n",
        "\n",
        "PioBot.plot_robot(\"red\")\n",
        "plt.show()\n",
        "PioBot.get_xya(\"final \")"
      ],
      "execution_count": null,
      "outputs": [
        {
          "output_type": "stream",
          "name": "stdout",
          "text": [
            "This is a demo of a turning movement: (for 1 sec)\n",
            "initial robot pose:\n",
            "    x = 0\n",
            "    y = 0\n",
            "    a = 1.5707963267948966\n"
          ]
        },
        {
          "output_type": "display_data",
          "data": {
            "text/plain": [
              "<Figure size 640x480 with 1 Axes>"
            ],
            "image/png": "[encoded data removed]"
          },
          "metadata": {}
        },
        {
          "output_type": "stream",
          "name": "stdout",
          "text": [
            "final robot pose:\n",
            "    x = -1.9999662225460393\n",
            "    y = 1.9999588762733855\n",
            "    a = 1.5707963267948966\n"
          ]
        }
      ]
    },
    {
      "cell_type": "markdown",
      "metadata": {
        "id": "Z4EXQ1ISfJXK"
      },
      "source": [
        "### Trajectories\n",
        "A simple method of moving the robot along a predefined trajectory is to define a sequence of forward and turning motion steps with the specified amount of time. Suppose you have a PioBot and you want to control it to move and perform a sequence of the following actions, fill in the TODO section and complete the motor control of the robot.\n",
        "\n",
        "0.  robotiv vehicle starts at (0,0) with initial orientation of 45 degrees\n",
        "1.  move forward slowly for 1 second\n",
        "2.  turn left for 1 second\n",
        "3.  turn right for 2.5 seconds\n",
        "4.  turn left for 2.5 seconds\n",
        "5.  final position should be very close to (4,4)"
      ]
    },
    {
      "cell_type": "code",
      "metadata": {
        "id": "J7sSXCVEdcKN",
        "colab": {
          "base_uri": "https://localhost:8080/",
          "height": 572
        },
        "outputId": "231a1d10-c9c4-4a6c-9cef-41cf80976aa4"
      },
      "source": [
        "# Speed options\n",
        "LOW_SPEED = 12.5664\n",
        "HIGH_SPEED = 18.8496\n",
        "\n",
        "# Initial pose of the robot\n",
        "px=0\n",
        "py=0\n",
        "ang = math.pi/4\n",
        "\n",
        "# Create our PioBot\n",
        "PioBot = DDRobot(px, py, ang)\n",
        "PioBot.get_xya(\"initial \")\n",
        "PioBot.plot_robot(\"green\")\n",
        "\n",
        "# TODO:----------------------------------------------------------------\n",
        "# reset the speed values for left and right wheels as well as the time.\n",
        "# so that the PioBot follows the instucted motion steps.\n",
        "# Use function: set_rt_spd, move\n",
        "# ---------------------------------------------------------------------\n",
        "\n",
        "PioBot.set_rt_spd(rt_spd_l=LOW_SPEED, rt_spd_r=LOW_SPEED)\n",
        "PioBot.move(seconds=1)\n",
        "\n",
        "PioBot.set_rt_spd(rt_spd_l=LOW_SPEED, rt_spd_r=HIGH_SPEED)\n",
        "PioBot.move(seconds=1)\n",
        "\n",
        "PioBot.set_rt_spd(rt_spd_l=HIGH_SPEED, rt_spd_r=LOW_SPEED)\n",
        "PioBot.move(seconds=2.5)\n",
        "\n",
        "PioBot.set_rt_spd(rt_spd_l=LOW_SPEED, rt_spd_r=HIGH_SPEED)\n",
        "PioBot.move(seconds=2.5)\n",
        "\n",
        "\n",
        "PioBot.plot_robot(\"red\")\n",
        "plt.show()\n",
        "PioBot.get_xya(\"final \")"
      ],
      "execution_count": null,
      "outputs": [
        {
          "output_type": "stream",
          "name": "stdout",
          "text": [
            "initial robot pose:\n",
            "    x = 0\n",
            "    y = 0\n",
            "    a = 0.7853981633974483\n"
          ]
        },
        {
          "output_type": "display_data",
          "data": {
            "text/plain": [
              "<Figure size 640x480 with 1 Axes>"
            ],
            "image/png": "[encoded data removed]"
          },
          "metadata": {}
        },
        {
          "output_type": "stream",
          "name": "stdout",
          "text": [
            "final robot pose:\n",
            "    x = 4.291606979666249\n",
            "    y = 3.7169443846254677\n",
            "    a = 2.356198163397454\n"
          ]
        }
      ]
    },
    {
      "cell_type": "markdown",
      "metadata": {
        "id": "qbFS0ohbf1K3"
      },
      "source": [
        "### Obstacle Avoidance\n",
        "\n",
        "Congratulations! Now let's find a safe trajectory for the PioBot so it reaches the yellow goal block without running into obstacles.\n"
      ]
    },
    {
      "cell_type": "code",
      "metadata": {
        "id": "R4jiR5exgKrz",
        "colab": {
          "base_uri": "https://localhost:8080/",
          "height": 577
        },
        "outputId": "e938e22c-5c9a-4326-95e2-7c4bc60a01d1"
      },
      "source": [
        "# Spead options\n",
        "LOW_SPEED = 12.5664\n",
        "HIGH_SPEED = 18.8496\n",
        "\n",
        "# draw obstacles\n",
        "\n",
        "plt.figure()\n",
        "ax = plt.gca()\n",
        "r1 = patches.Rectangle((-0.9,0.3), 1.1, 0.2, color=\"black\", alpha=0.80)\n",
        "r2 = patches.Rectangle((-0.8,0.5), 0.2, 0.8, color=\"black\",  alpha=0.80)\n",
        "r3 = patches.Rectangle((-0.5,1.5), 0.05, 0.1, color=\"yellow\",  alpha=0.80)\n",
        "t2 = mpl.transforms.Affine2D().rotate_deg(-45) + ax.transData\n",
        "r2.set_transform(t2)\n",
        "ax.add_patch(r1)\n",
        "ax.add_patch(r2)\n",
        "ax.add_patch(r3)\n",
        "#Set the limits of the plot\n",
        "plt.xlim([-2,1])\n",
        "plt.ylim([-1,2])\n",
        "\n",
        "# Initial pose of the robot\n",
        "px=0\n",
        "py=0\n",
        "ang = math.pi/4\n",
        "\n",
        "# Create our PioBot\n",
        "PioBot = DDRobot(px, py, ang)\n",
        "PioBot.get_xya(\"initial \")\n",
        "PioBot.plot_robot(\"green\")\n",
        "\n",
        "# TODO:----------------------------------------------------------------\n",
        "# Reset the speed values for left and right wheels as well as the time.\n",
        "# so that the PioBot goes around all obstacles.\n",
        "# Use function: set_rt_spd,  move\n",
        "# ---------------------------------------------------------------------\n",
        "\n",
        "PioBot.set_rt_spd(rt_spd_l=LOW_SPEED, rt_spd_r=LOW_SPEED)\n",
        "PioBot.move(seconds=0.4)\n",
        "\n",
        "PioBot.set_rt_spd(rt_spd_l=LOW_SPEED, rt_spd_r=HIGH_SPEED)\n",
        "PioBot.move(seconds=1.2)\n",
        "\n",
        "PioBot.set_rt_spd(rt_spd_l=-LOW_SPEED, rt_spd_r=-LOW_SPEED)\n",
        "PioBot.move(seconds=0.4)\n",
        "\n",
        "PioBot.set_rt_spd(rt_spd_l=LOW_SPEED, rt_spd_r=HIGH_SPEED)\n",
        "PioBot.move(seconds=0.7)\n",
        "\n",
        "PioBot.set_rt_spd(rt_spd_l=-LOW_SPEED, rt_spd_r=-LOW_SPEED)\n",
        "PioBot.move(seconds=0.3)\n",
        "\n",
        "PioBot.set_rt_spd(rt_spd_l=LOW_SPEED, rt_spd_r=17)\n",
        "PioBot.move(seconds=0.3)\n",
        "\n",
        "\n",
        "PioBot.plot_robot(\"red\")\n",
        "plt.show()\n",
        "PioBot.get_xya(\"final \")"
      ],
      "execution_count": null,
      "outputs": [
        {
          "output_type": "stream",
          "name": "stdout",
          "text": [
            "initial robot pose:\n",
            "    x = 0\n",
            "    y = 0\n",
            "    a = 0.7853981633974483\n"
          ]
        },
        {
          "output_type": "display_data",
          "data": {
            "text/plain": [
              "<Figure size 640x480 with 1 Axes>"
            ],
            "image/png": "[encoded data removed]"
          },
          "metadata": {}
        },
        {
          "output_type": "stream",
          "name": "stdout",
          "text": [
            "final robot pose:\n",
            "    x = -0.506011297687513\n",
            "    y = 1.538021525740274\n",
            "    a = 4.102438163397459\n"
          ]
        }
      ]
    }
  ]
}